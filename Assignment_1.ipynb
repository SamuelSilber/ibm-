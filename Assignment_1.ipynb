{
  "nbformat": 4,
  "nbformat_minor": 0,
  "metadata": {
    "colab": {
      "name": "Untitled22.ipynb",
      "version": "0.3.2",
      "provenance": [],
      "include_colab_link": true
    },
    "kernelspec": {
      "name": "python3",
      "display_name": "Python 3"
    }
  },
  "cells": [
    {
      "cell_type": "markdown",
      "metadata": {
        "id": "view-in-github",
        "colab_type": "text"
      },
      "source": [
        "<a href=\"https://colab.research.google.com/github/samarak/ibm-/blob/master/Untitled22.ipynb\" target=\"_parent\"><img src=\"https://colab.research.google.com/assets/colab-badge.svg\" alt=\"Open In Colab\"/></a>"
      ]
    },
    {
      "metadata": {
        "id": "I62Lxz1-T0or",
        "colab_type": "text"
      },
      "cell_type": "markdown",
      "source": [
        "<h3>This is week one assignment </h3>"
      ]
    },
    {
      "metadata": {
        "id": "o3t0tUrSTFTp",
        "colab_type": "code",
        "colab": {}
      },
      "cell_type": "code",
      "source": [
        "import pandas as pd.\n",
        "Import numpy as np.\n",
        "Print (\"Hello Capstone Project Course!\")"
      ],
      "execution_count": 0,
      "outputs": []
    }
  ]
}
